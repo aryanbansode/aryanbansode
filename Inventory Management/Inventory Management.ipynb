{
 "cells": [
  {
   "cell_type": "markdown",
   "id": "12573c0f-e17c-45d4-a9e6-54406dd5b4f4",
   "metadata": {},
   "source": [
    "#Product Details\n",
    "\n",
    "1.Product ID\n",
    "2. Name of the product\n",
    "3.Price of the Product\n",
    "4.Quantity"
   ]
  },
  {
   "cell_type": "code",
   "execution_count": 3,
   "id": "b171d8b6-f942-4d8a-8149-d38dfd4e6965",
   "metadata": {},
   "outputs": [
    {
     "name": "stdin",
     "output_type": "stream",
     "text": [
      "Enter your Name:  jvhjgj\n",
      "Enter your Phone No:  44564\n",
      "Enter your Mail: 64654\n",
      "Enter product ID:  2\n",
      "Enter product Quantity:  8\n"
     ]
    },
    {
     "name": "stdout",
     "output_type": "stream",
     "text": [
      "-------------------------------------------------------------\n",
      "Product Name     : Milky Bar\n",
      "Price            : 5\n",
      "Quantity         : 8\n",
      "------------------------------------------------------------\n",
      "Billing Amount   : 40 $\n",
      "------------------------------------------------------------\n"
     ]
    }
   ],
   "source": [
    "import time \n",
    "#Reading the Inventory \n",
    "\n",
    "fd = open(\"Inventory.txt\",'r')\n",
    "products = fd.read().split('\\n')\n",
    "fd.close()\n",
    "\n",
    "# Taking User Input\n",
    "ui_username = input(\"Enter your Name: \")\n",
    "ui_phone = input(\"Enter your Phone No: \")\n",
    "ui_mail = input(\"Enter your Mail:\")\n",
    "ui_prod_id = input(\"Enter product ID: \")\n",
    "ui_prod_qn = input(\"Enter product Quantity: \")\n",
    "\n",
    "updated_product_lst = []\n",
    "\n",
    "# Going through each product details\n",
    "for product in products:\n",
    "    prod_details = product.split(',')\n",
    "\n",
    "    \n",
    "    if(prod_details[0] == ui_prod_id):\n",
    "        # Checking if Product exist or not\n",
    "        if (int(ui_prod_qn) <= int(prod_details[3])):\n",
    "        # Checking if we're having enough quantity\n",
    "            \n",
    "            print(\"-------------------------------------------------------------\")\n",
    "            print(\"Product Name     :\", prod_details[1])\n",
    "            print(\"Price            :\", prod_details[2])\n",
    "            print(\"Quantity         :\", ui_prod_qn)\n",
    "            print(\"------------------------------------------------------------\")\n",
    "            print(\"Billing Amount   :\", int(ui_prod_qn) * int(prod_details[2]), \"$\")\n",
    "            print(\"------------------------------------------------------------\"  )\n",
    "\n",
    "            # updating the inventory list\n",
    "            prod_details[3] = str(int(prod_details[3]) - int(ui_prod_qn))\n",
    "\n",
    "            # Generating Sales in Sales.txt\n",
    "            fd = open(\"Sales.txt\", 'a')\n",
    "            sales_details = ui_username +\",\"+ ui_phone +\",\"+ ui_mail+\",\"+ prod_details[1]+\",\"+ ui_prod_id +\",\"+ ui_prod_qn+\",\"+ str(int(ui_prod_qn) * int(prod_details[2]))+\",\"+time.ctime() + \"\\n\"\n",
    "            fd.write(sales_details)\n",
    "            fd.close()\n",
    "        else:\n",
    "            # If we.re not having enough quantity\n",
    "            print(\"Sorry, We're not having enought quantity?\")\n",
    "            print(\"We are having only\",prod_details[3],'quantity.')\n",
    "            print('Would you like to have ?')\n",
    "\n",
    "            ch = input(\"Press Y/N\")\n",
    "            if (ch == 'y' or ch == 'Y'):\n",
    "                # If you want to purhase with remaing quantity\n",
    "                                \n",
    "                print(\"---------------------------------------------------------------------\")\n",
    "                print(\"Product Name     :\", prod_details[1])\n",
    "                print(\"Price            :\", prod_details[2])\n",
    "                print(\"Quantity         :\", prod_details[3])\n",
    "                print(\"----------------------------------------------------------------------\")\n",
    "                print(\"Billing Amount   :\", int(prod_details[3]) * int(prod_details[2]), '$')\n",
    "                print(\"-----------------------------------------------------------------------\")\n",
    "                \n",
    "                # Generating Sales in Sales.txt\n",
    "                fd = open(\"Sales.txt\", 'a')\n",
    "                sales_details = ui_username +\",\"+ ui_phone +\",\"+ ui_mail+\",\"+ prod_details[1]+\",\"+ ui_prod_id +\",\"+  prod_details[3]+\",\"+ str(int( prod_details[3]) * int(prod_details[2]))+\",\"+time.ctime() + \"\\n\"\n",
    "                fd.write(sales_details)\n",
    "                fd.close()\n",
    "                # Updating Inventory list\n",
    "                prod_details[3] = '0'\n",
    "            else:\n",
    "                print(\"Thank u Bro \\n have a nice day\")\n",
    "\n",
    "    # Updating my Inventory list\n",
    "    updated_product_lst.append(prod_details)\n",
    "\n",
    "lst = []\n",
    "\n",
    "# Updating my Inventory String \n",
    "for i in updated_product_lst:\n",
    "    prod = i[0] + \",\" +i[1] + \",\"+ i [2]+ \",\" +i[3] + '\\n'\n",
    "    lst.append(prod)\n",
    "\n",
    "lst[-1] = lst[-1][:-1]\n",
    "\n",
    "# Updating Inventory File\n",
    "fd = open('Inventory.txt','w')\n",
    "\n",
    "for i in lst:\n",
    "    fd.write(i)\n",
    "\n",
    "fd.close()"
   ]
  },
  {
   "cell_type": "code",
   "execution_count": null,
   "id": "220b6b99-71c4-4727-bd03-bbc9c13714d7",
   "metadata": {},
   "outputs": [],
   "source": []
  }
 ],
 "metadata": {
  "kernelspec": {
   "display_name": "Python 3 (ipykernel)",
   "language": "python",
   "name": "python3"
  },
  "language_info": {
   "codemirror_mode": {
    "name": "ipython",
    "version": 3
   },
   "file_extension": ".py",
   "mimetype": "text/x-python",
   "name": "python",
   "nbconvert_exporter": "python",
   "pygments_lexer": "ipython3",
   "version": "3.12.4"
  }
 },
 "nbformat": 4,
 "nbformat_minor": 5
}
